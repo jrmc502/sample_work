{
 "cells": [
  {
   "cell_type": "code",
   "execution_count": 1,
   "metadata": {},
   "outputs": [],
   "source": [
    "import cv2"
   ]
  },
  {
   "cell_type": "code",
   "execution_count": 3,
   "metadata": {
    "scrolled": true
   },
   "outputs": [
    {
     "name": "stdout",
     "output_type": "stream",
     "text": [
      "<class 'numpy.ndarray'>\n"
     ]
    }
   ],
   "source": [
    "img=cv2.imread(\"galaxy.jpg\",0)\n",
    "#0 passes as B/W\n",
    "print(type(img))"
   ]
  },
  {
   "cell_type": "code",
   "execution_count": 4,
   "metadata": {},
   "outputs": [
    {
     "name": "stdout",
     "output_type": "stream",
     "text": [
      "[[14 18 14 ... 20 15 16]\n",
      " [12 16 12 ... 20 15 17]\n",
      " [12 13 16 ... 14 24 21]\n",
      " ...\n",
      " [ 0  0  0 ...  5  8 14]\n",
      " [ 0  0  0 ...  2  3  9]\n",
      " [ 1  1  1 ...  1  1  3]]\n"
     ]
    }
   ],
   "source": [
    "print(img)\n",
    "#this shows the image as a matrix of values."
   ]
  },
  {
   "cell_type": "code",
   "execution_count": 5,
   "metadata": {},
   "outputs": [
    {
     "name": "stdout",
     "output_type": "stream",
     "text": [
      "2\n"
     ]
    }
   ],
   "source": [
    "print(img.ndim)\n",
    "#shows dimensionality"
   ]
  },
  {
   "cell_type": "code",
   "execution_count": 6,
   "metadata": {},
   "outputs": [
    {
     "name": "stdout",
     "output_type": "stream",
     "text": [
      "(1485, 990)\n"
     ]
    }
   ],
   "source": [
    "print(img.shape)\n",
    "#prints resolution"
   ]
  },
  {
   "cell_type": "code",
   "execution_count": 10,
   "metadata": {},
   "outputs": [
    {
     "data": {
      "text/plain": [
       "array([[[19, 15, 10],\n",
       "        [23, 19, 14],\n",
       "        [21, 15,  8],\n",
       "        ...,\n",
       "        [27, 22, 13],\n",
       "        [22, 17,  8],\n",
       "        [23, 18,  9]],\n",
       "\n",
       "       [[17, 13,  8],\n",
       "        [21, 17, 12],\n",
       "        [19, 13,  6],\n",
       "        ...,\n",
       "        [27, 22, 13],\n",
       "        [22, 17,  8],\n",
       "        [24, 19, 10]],\n",
       "\n",
       "       [[17, 14,  6],\n",
       "        [18, 15,  7],\n",
       "        [21, 18, 10],\n",
       "        ...,\n",
       "        [23, 16,  7],\n",
       "        [33, 26, 17],\n",
       "        [30, 23, 14]],\n",
       "\n",
       "       ...,\n",
       "\n",
       "       [[ 0,  0,  0],\n",
       "        [ 0,  0,  0],\n",
       "        [ 0,  0,  0],\n",
       "        ...,\n",
       "        [ 5,  5,  5],\n",
       "        [ 8,  8,  8],\n",
       "        [14, 14, 14]],\n",
       "\n",
       "       [[ 0,  0,  0],\n",
       "        [ 0,  0,  0],\n",
       "        [ 0,  0,  0],\n",
       "        ...,\n",
       "        [ 2,  2,  2],\n",
       "        [ 3,  3,  3],\n",
       "        [ 9,  9,  9]],\n",
       "\n",
       "       [[ 1,  1,  1],\n",
       "        [ 1,  1,  1],\n",
       "        [ 1,  1,  1],\n",
       "        ...,\n",
       "        [ 1,  1,  1],\n",
       "        [ 1,  1,  1],\n",
       "        [ 3,  3,  3]]], dtype=uint8)"
      ]
     },
     "execution_count": 10,
     "metadata": {},
     "output_type": "execute_result"
    }
   ],
   "source": [
    "img2=cv2.imread(\"galaxy.jpg\",1)\n",
    "#1 passes as RBG, three arrays. "
   ]
  },
  {
   "cell_type": "code",
   "execution_count": 15,
   "metadata": {},
   "outputs": [],
   "source": [
    "cv2.imshow(\"Galaxy\", img)\n",
    "#title\n",
    "cv2.waitKey(0)\n",
    "#0 closes with any button, 2000= two thousand miliseconds.\n",
    "cv2.destroyAllWindows()"
   ]
  },
  {
   "cell_type": "code",
   "execution_count": 19,
   "metadata": {},
   "outputs": [],
   "source": [
    "resizedimg = cv2.resize(img, (1000,500))\n",
    "#resize img, interpolation\n",
    "cv2.imshow(\"Galaxy\", resizedimg)        \n",
    "cv2.waitKey(0)\n",
    "cv2.destroyAllWindows()                  "
   ]
  },
  {
   "cell_type": "code",
   "execution_count": 22,
   "metadata": {},
   "outputs": [],
   "source": [
    "resizedimg2 = cv2.resize(img, (int(img.shape[1]/2),int(img.shape[0]/2)))\n",
    "#resize img based on original dimensions shape[1] is x. \n",
    "cv2.imshow(\"Galaxy\", resizedimg2)        \n",
    "cv2.waitKey(0)\n",
    "cv2.destroyAllWindows()                  "
   ]
  },
  {
   "cell_type": "code",
   "execution_count": 23,
   "metadata": {},
   "outputs": [
    {
     "data": {
      "text/plain": [
       "True"
      ]
     },
     "execution_count": 23,
     "metadata": {},
     "output_type": "execute_result"
    }
   ],
   "source": [
    "cv2.imwrite(\"galaxyresized.jpg\", resizedimg2)"
   ]
  },
  {
   "cell_type": "code",
   "execution_count": null,
   "metadata": {},
   "outputs": [],
   "source": []
  }
 ],
 "metadata": {
  "kernelspec": {
   "display_name": "Python 3",
   "language": "python",
   "name": "python3"
  },
  "language_info": {
   "codemirror_mode": {
    "name": "ipython",
    "version": 3
   },
   "file_extension": ".py",
   "mimetype": "text/x-python",
   "name": "python",
   "nbconvert_exporter": "python",
   "pygments_lexer": "ipython3",
   "version": "3.7.3"
  }
 },
 "nbformat": 4,
 "nbformat_minor": 2
}
